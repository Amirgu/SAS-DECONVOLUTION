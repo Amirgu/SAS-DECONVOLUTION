{
 "cells": [
  {
   "cell_type": "code",
   "execution_count": 1,
   "metadata": {},
   "outputs": [],
   "source": [
    "import numpy as np\n",
    "\n",
    "def cconvfft2(A, B, *args):\n",
    "    numvararg = len(args)\n",
    "    \n",
    "    if numvararg > 2:\n",
    "        raise Exception('Too many input arguments.')\n",
    "    \n",
    "    N = max(A.shape + B.shape)\n",
    "    if numvararg >= 1 and args[0] is not None:\n",
    "        N = args[0]\n",
    "    \n",
    "    A_hat = np.fft.fft2(A, s=(N, N))\n",
    "    B_hat = np.fft.fft2(B, s=(N, N))\n",
    "    \n",
    "    if numvararg >= 2 and args[1] is not None:\n",
    "        if args[1] == 'left':\n",
    "            A_hat = np.conj(A_hat)\n",
    "        elif args[1] == 'right':\n",
    "            B_hat = np.conj(B_hat)\n",
    "        elif args[1] == 'both':\n",
    "            A_hat = np.conj(A_hat)\n",
    "            B_hat = np.conj(B_hat)\n",
    "        else:\n",
    "            pass\n",
    "    \n",
    "    C = np.fft.ifft2(A_hat * B_hat)\n",
    "    return C\n"
   ]
  },
  {
   "cell_type": "markdown",
   "metadata": {},
   "source": []
  }
 ],
 "metadata": {
  "kernelspec": {
   "display_name": "Python 3",
   "language": "python",
   "name": "python3"
  },
  "language_info": {
   "codemirror_mode": {
    "name": "ipython",
    "version": 3
   },
   "file_extension": ".py",
   "mimetype": "text/x-python",
   "name": "python",
   "nbconvert_exporter": "python",
   "pygments_lexer": "ipython3",
   "version": "3.8.10"
  },
  "orig_nbformat": 4
 },
 "nbformat": 4,
 "nbformat_minor": 2
}
